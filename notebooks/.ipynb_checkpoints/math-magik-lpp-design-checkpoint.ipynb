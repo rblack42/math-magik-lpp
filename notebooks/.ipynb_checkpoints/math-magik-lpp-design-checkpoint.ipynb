{
 "cells": [
  {
   "cell_type": "markdown",
   "id": "0601ec7f",
   "metadata": {},
   "source": [
    "# Math Magik LPP Design notes"
   ]
  },
  {
   "cell_type": "markdown",
   "id": "43e2d9e3",
   "metadata": {},
   "source": [
    "In this note, we will work through the development of Python code needed to generate the film covering we will use on the *math-magik-lpp* model. This model is using a simple circular arc airfoil, so let's begin by looking at the basic geometry of that airfoil.\n",
    "\n",
    "We will use the LaTeX *tikz* package to generate these figures. *Jupyter* can generate these images using the Python *itikz* package."
   ]
  },
  {
   "cell_type": "code",
   "execution_count": 1,
   "id": "5f5f756f",
   "metadata": {},
   "outputs": [],
   "source": [
    "%load_ext itikz"
   ]
  },
  {
   "cell_type": "code",
   "execution_count": 2,
   "id": "73f1c63c",
   "metadata": {},
   "outputs": [
    {
     "data": {
      "image/svg+xml": [
       "<svg xmlns=\"http://www.w3.org/2000/svg\" xmlns:xlink=\"http://www.w3.org/1999/xlink\" width=\"215.428pt\" height=\"106.676pt\" viewBox=\"0 0 215.428 106.676\" version=\"1.1\">\n",
       "<defs>\n",
       "<g>\n",
       "<symbol overflow=\"visible\" id=\"glyph0-0\">\n",
       "<path style=\"stroke:none;\" d=\"\"/>\n",
       "</symbol>\n",
       "<symbol overflow=\"visible\" id=\"glyph0-1\">\n",
       "<path style=\"stroke:none;\" d=\"M 1.671875 -3.3125 L 1.671875 -4.40625 L 0.28125 -4.296875 L 0.28125 -3.984375 C 0.984375 -3.984375 1.0625 -3.921875 1.0625 -3.421875 L 1.0625 -0.75 C 1.0625 -0.3125 0.953125 -0.3125 0.28125 -0.3125 L 0.28125 0 C 0.671875 -0.015625 1.140625 -0.03125 1.421875 -0.03125 C 1.8125 -0.03125 2.28125 -0.03125 2.6875 0 L 2.6875 -0.3125 L 2.46875 -0.3125 C 1.734375 -0.3125 1.71875 -0.421875 1.71875 -0.78125 L 1.71875 -2.3125 C 1.71875 -3.296875 2.140625 -4.1875 2.890625 -4.1875 C 2.953125 -4.1875 2.984375 -4.1875 3 -4.171875 C 2.96875 -4.171875 2.765625 -4.046875 2.765625 -3.78125 C 2.765625 -3.515625 2.984375 -3.359375 3.203125 -3.359375 C 3.375 -3.359375 3.625 -3.484375 3.625 -3.796875 C 3.625 -4.109375 3.3125 -4.40625 2.890625 -4.40625 C 2.15625 -4.40625 1.796875 -3.734375 1.671875 -3.3125 Z M 1.671875 -3.3125 \"/>\n",
       "</symbol>\n",
       "<symbol overflow=\"visible\" id=\"glyph0-2\">\n",
       "<path style=\"stroke:none;\" d=\"M 1.71875 -3.984375 L 3.15625 -3.984375 L 3.15625 -4.296875 L 1.71875 -4.296875 L 1.71875 -6.125 L 1.46875 -6.125 C 1.46875 -5.3125 1.171875 -4.25 0.1875 -4.203125 L 0.1875 -3.984375 L 1.03125 -3.984375 L 1.03125 -1.234375 C 1.03125 -0.015625 1.96875 0.109375 2.328125 0.109375 C 3.03125 0.109375 3.3125 -0.59375 3.3125 -1.234375 L 3.3125 -1.796875 L 3.0625 -1.796875 L 3.0625 -1.25 C 3.0625 -0.515625 2.765625 -0.140625 2.390625 -0.140625 C 1.71875 -0.140625 1.71875 -1.046875 1.71875 -1.21875 Z M 1.71875 -3.984375 \"/>\n",
       "</symbol>\n",
       "<symbol overflow=\"visible\" id=\"glyph0-3\">\n",
       "<path style=\"stroke:none;\" d=\"M 1.109375 -2.515625 C 1.171875 -4 2.015625 -4.25 2.359375 -4.25 C 3.375 -4.25 3.484375 -2.90625 3.484375 -2.515625 Z M 1.109375 -2.296875 L 3.890625 -2.296875 C 4.109375 -2.296875 4.140625 -2.296875 4.140625 -2.515625 C 4.140625 -3.5 3.59375 -4.46875 2.359375 -4.46875 C 1.203125 -4.46875 0.28125 -3.4375 0.28125 -2.1875 C 0.28125 -0.859375 1.328125 0.109375 2.46875 0.109375 C 3.6875 0.109375 4.140625 -1 4.140625 -1.1875 C 4.140625 -1.28125 4.0625 -1.3125 4 -1.3125 C 3.921875 -1.3125 3.890625 -1.25 3.875 -1.171875 C 3.53125 -0.140625 2.625 -0.140625 2.53125 -0.140625 C 2.03125 -0.140625 1.640625 -0.4375 1.40625 -0.8125 C 1.109375 -1.28125 1.109375 -1.9375 1.109375 -2.296875 Z M 1.109375 -2.296875 \"/>\n",
       "</symbol>\n",
       "<symbol overflow=\"visible\" id=\"glyph0-4\">\n",
       "<path style=\"stroke:none;\" d=\"M 1.765625 -6.921875 L 0.328125 -6.8125 L 0.328125 -6.5 C 1.03125 -6.5 1.109375 -6.4375 1.109375 -5.9375 L 1.109375 -0.75 C 1.109375 -0.3125 1 -0.3125 0.328125 -0.3125 L 0.328125 0 C 0.65625 -0.015625 1.1875 -0.03125 1.4375 -0.03125 C 1.6875 -0.03125 2.171875 -0.015625 2.546875 0 L 2.546875 -0.3125 C 1.875 -0.3125 1.765625 -0.3125 1.765625 -0.75 Z M 1.765625 -6.921875 \"/>\n",
       "</symbol>\n",
       "<symbol overflow=\"visible\" id=\"glyph0-5\">\n",
       "<path style=\"stroke:none;\" d=\"M 0.5625 -3.40625 C 0.5625 -1.34375 2.171875 0.21875 4.03125 0.21875 C 5.65625 0.21875 6.625 -1.171875 6.625 -2.328125 C 6.625 -2.421875 6.625 -2.5 6.5 -2.5 C 6.390625 -2.5 6.390625 -2.4375 6.375 -2.328125 C 6.296875 -0.90625 5.234375 -0.09375 4.140625 -0.09375 C 3.53125 -0.09375 1.578125 -0.421875 1.578125 -3.40625 C 1.578125 -6.375 3.53125 -6.71875 4.140625 -6.71875 C 5.21875 -6.71875 6.109375 -5.8125 6.3125 -4.359375 C 6.328125 -4.21875 6.328125 -4.1875 6.46875 -4.1875 C 6.625 -4.1875 6.625 -4.21875 6.625 -4.421875 L 6.625 -6.78125 C 6.625 -6.953125 6.625 -7.03125 6.515625 -7.03125 C 6.484375 -7.03125 6.4375 -7.03125 6.359375 -6.90625 L 5.859375 -6.171875 C 5.5 -6.53125 4.984375 -7.03125 4.03125 -7.03125 C 2.15625 -7.03125 0.5625 -5.4375 0.5625 -3.40625 Z M 0.5625 -3.40625 \"/>\n",
       "</symbol>\n",
       "<symbol overflow=\"visible\" id=\"glyph1-0\">\n",
       "<path style=\"stroke:none;\" d=\"\"/>\n",
       "</symbol>\n",
       "<symbol overflow=\"visible\" id=\"glyph1-1\">\n",
       "<path style=\"stroke:none;\" d=\"M 4.75 -2.359375 C 4.75 -3.921875 3.828125 -4.40625 3.09375 -4.40625 C 1.71875 -4.40625 0.40625 -2.984375 0.40625 -1.578125 C 0.40625 -0.640625 1 0.109375 2.03125 0.109375 C 2.65625 0.109375 3.375 -0.125 4.125 -0.734375 C 4.25 -0.203125 4.578125 0.109375 5.03125 0.109375 C 5.5625 0.109375 5.875 -0.4375 5.875 -0.59375 C 5.875 -0.671875 5.8125 -0.703125 5.75 -0.703125 C 5.6875 -0.703125 5.65625 -0.671875 5.625 -0.59375 C 5.4375 -0.109375 5.078125 -0.109375 5.0625 -0.109375 C 4.75 -0.109375 4.75 -0.890625 4.75 -1.125 C 4.75 -1.328125 4.75 -1.359375 4.859375 -1.46875 C 5.796875 -2.65625 6 -3.8125 6 -3.8125 C 6 -3.84375 5.984375 -3.921875 5.875 -3.921875 C 5.78125 -3.921875 5.78125 -3.890625 5.734375 -3.703125 C 5.546875 -3.078125 5.21875 -2.328125 4.75 -1.734375 Z M 4.09375 -0.984375 C 3.203125 -0.21875 2.4375 -0.109375 2.046875 -0.109375 C 1.453125 -0.109375 1.140625 -0.5625 1.140625 -1.203125 C 1.140625 -1.6875 1.40625 -2.765625 1.71875 -3.265625 C 2.1875 -4 2.734375 -4.1875 3.078125 -4.1875 C 4.0625 -4.1875 4.0625 -2.875 4.0625 -2.109375 C 4.0625 -1.734375 4.0625 -1.15625 4.09375 -0.984375 Z M 4.09375 -0.984375 \"/>\n",
       "</symbol>\n",
       "</g>\n",
       "<clipPath id=\"clip1\">\n",
       "  <path d=\"M 16 106 L 215.429688 106 L 215.429688 106.675781 L 16 106.675781 Z M 16 106 \"/>\n",
       "</clipPath>\n",
       "<clipPath id=\"clip2\">\n",
       "  <path d=\"M 104 44 L 178 44 L 178 106.675781 L 104 106.675781 Z M 104 44 \"/>\n",
       "</clipPath>\n",
       "<clipPath id=\"clip3\">\n",
       "  <path d=\"M 60 50 L 122 50 L 122 106.675781 L 60 106.675781 Z M 60 50 \"/>\n",
       "</clipPath>\n",
       "<clipPath id=\"clip4\">\n",
       "  <path d=\"M 115 21 L 117 21 L 117 106.675781 L 115 106.675781 Z M 115 21 \"/>\n",
       "</clipPath>\n",
       "<clipPath id=\"clip5\">\n",
       "  <path d=\"M 130 80 L 150 80 L 150 106.675781 L 130 106.675781 Z M 130 80 \"/>\n",
       "</clipPath>\n",
       "</defs>\n",
       "<g id=\"surface1\">\n",
       "<g clip-path=\"url(#clip1)\" clip-rule=\"nonzero\">\n",
       "<path style=\"fill:none;stroke-width:0.3985;stroke-linecap:butt;stroke-linejoin:miter;stroke:rgb(0%,0%,0%);stroke-opacity:1;stroke-miterlimit:10;\" d=\"M 0.0006875 -0.00034375 L 198.426469 -0.00034375 \" transform=\"matrix(1,0,0,-1,16.804,106.277)\"/>\n",
       "</g>\n",
       "<g clip-path=\"url(#clip2)\" clip-rule=\"nonzero\">\n",
       "<path style=\"fill:none;stroke-width:0.79701;stroke-linecap:butt;stroke-linejoin:miter;stroke:rgb(0%,0%,0%);stroke-opacity:1;stroke-miterlimit:10;\" d=\"M 99.215531 -0.00034375 L 149.324906 50.109031 \" transform=\"matrix(1,0,0,-1,16.804,106.277)\"/>\n",
       "</g>\n",
       "<g style=\"fill:rgb(0%,0%,0%);fill-opacity:1;\">\n",
       "  <use xlink:href=\"#glyph0-1\" x=\"139.12\" y=\"77.504\"/>\n",
       "</g>\n",
       "<g clip-path=\"url(#clip3)\" clip-rule=\"nonzero\">\n",
       "<path style=\"fill:none;stroke-width:0.3985;stroke-linecap:butt;stroke-linejoin:miter;stroke:rgb(0%,0%,0%);stroke-opacity:1;stroke-miterlimit:10;\" d=\"M 99.215531 -0.00034375 L 49.10225 50.109031 \" transform=\"matrix(1,0,0,-1,16.804,106.277)\"/>\n",
       "</g>\n",
       "<g clip-path=\"url(#clip4)\" clip-rule=\"nonzero\">\n",
       "<path style=\"fill:none;stroke-width:0.3985;stroke-linecap:butt;stroke-linejoin:miter;stroke:rgb(0%,0%,0%);stroke-opacity:1;stroke-miterlimit:10;\" d=\"M 99.215531 -0.00034375 L 99.215531 85.038719 \" transform=\"matrix(1,0,0,-1,16.804,106.277)\"/>\n",
       "</g>\n",
       "<path style=\"fill:none;stroke-width:1.59404;stroke-linecap:butt;stroke-linejoin:miter;stroke:rgb(0%,0%,0%);stroke-opacity:1;stroke-miterlimit:10;\" d=\"M 149.324906 50.109031 C 121.649125 77.784812 76.778031 77.784812 49.10225 50.109031 \" transform=\"matrix(1,0,0,-1,16.804,106.277)\"/>\n",
       "<g clip-path=\"url(#clip5)\" clip-rule=\"nonzero\">\n",
       "<path style=\"fill:none;stroke-width:0.3985;stroke-linecap:butt;stroke-linejoin:miter;stroke:rgb(0%,0%,0%);stroke-opacity:1;stroke-miterlimit:10;\" d=\"M 127.559281 -0.00034375 C 127.559281 7.515281 124.574906 14.730125 119.2585 20.042625 \" transform=\"matrix(1,0,0,-1,16.804,106.277)\"/>\n",
       "</g>\n",
       "<path style=\"fill:none;stroke-width:0.3985;stroke-linecap:butt;stroke-linejoin:miter;stroke:rgb(0%,0%,0%);stroke-opacity:1;stroke-miterlimit:10;\" d=\"M 149.324906 50.109031 L 49.10225 50.109031 \" transform=\"matrix(1,0,0,-1,16.804,106.277)\"/>\n",
       "<g style=\"fill:rgb(0%,0%,0%);fill-opacity:1;\">\n",
       "  <use xlink:href=\"#glyph0-2\" x=\"169.646\" y=\"59.232\"/>\n",
       "  <use xlink:href=\"#glyph0-3\" x=\"173.520455\" y=\"59.232\"/>\n",
       "</g>\n",
       "<g style=\"fill:rgb(0%,0%,0%);fill-opacity:1;\">\n",
       "  <use xlink:href=\"#glyph0-4\" x=\"55.191\" y=\"59.627\"/>\n",
       "  <use xlink:href=\"#glyph0-3\" x=\"57.95861\" y=\"59.627\"/>\n",
       "</g>\n",
       "<g style=\"fill:rgb(0%,0%,0%);fill-opacity:1;\">\n",
       "  <use xlink:href=\"#glyph1-1\" x=\"144.236\" y=\"95.405\"/>\n",
       "</g>\n",
       "<path style=\"fill:none;stroke-width:0.3985;stroke-linecap:butt;stroke-linejoin:miter;stroke:rgb(0%,0%,0%);stroke-opacity:1;stroke-miterlimit:10;\" d=\"M 148.863969 92.632469 L 49.563187 92.632469 \" transform=\"matrix(1,0,0,-1,16.804,106.277)\"/>\n",
       "<path style=\"fill:none;stroke-width:0.31879;stroke-linecap:round;stroke-linejoin:round;stroke:rgb(0%,0%,0%);stroke-opacity:1;stroke-miterlimit:10;\" d=\"M -1.197264 1.595639 C -1.095701 0.997982 -0.00195125 0.099545 0.29883 0.00188875 C -0.00195125 -0.0996738 -1.095701 -0.998111 -1.197264 -1.595768 \" transform=\"matrix(1,0,0,-1,165.66992,13.64642)\"/>\n",
       "<path style=\"fill:none;stroke-width:0.31879;stroke-linecap:round;stroke-linejoin:round;stroke:rgb(0%,0%,0%);stroke-opacity:1;stroke-miterlimit:10;\" d=\"M -1.1968 1.595768 C -1.095237 0.998111 -0.0014875 0.0996738 0.299294 -0.00188875 C -0.0014875 -0.099545 -1.095237 -0.997982 -1.1968 -1.595639 \" transform=\"matrix(-1,0,0,1,66.3657,13.64642)\"/>\n",
       "<g style=\"fill:rgb(0%,0%,0%);fill-opacity:1;\">\n",
       "  <use xlink:href=\"#glyph0-5\" x=\"112.419\" y=\"10.128\"/>\n",
       "</g>\n",
       "</g>\n",
       "</svg>"
      ],
      "text/plain": [
       "<IPython.core.display.SVG object>"
      ]
     },
     "execution_count": 2,
     "metadata": {},
     "output_type": "execute_result"
    }
   ],
   "source": [
    "%%itikz\n",
    "\n",
    "\\documentclass{standalone}\n",
    "\\usepackage{tikz}\n",
    "\\begin{document}\n",
    "\\usetikzlibrary{calc}\n",
    "\\begin{tikzpicture}\n",
    "  \\draw(0,0) -- (7,0);\n",
    "  \\draw[thick](3.5,0) -> node[above] {r} ++(45:2.5) coordinate (p1);\n",
    "  \\draw(3.5,0) -- ++(135:2.5) coordinate (p2);\n",
    "  \\draw(3.5,0) -- (3.5,3);\n",
    "  \\draw[ultra thick] (p1) arc (45:135:2.5);\n",
    "  \\draw (4.5,0) arc (0:45:1);\n",
    "  \\draw (p1) -- (p2);\n",
    "  \\node[right] at (p1) {te};\n",
    "  \\node[left] at (p2) {le};\n",
    "  \\coordinate (angle_label) at ($ (3.5,0) + (22.5:1.2) $);\n",
    "  \\node at (angle_label) {$\\alpha$};\n",
    "  \\coordinate (p3) at ($(p1) + (0,1.5) $);\n",
    "  \\coordinate (p4) at ($ (p2) + (0,1.5) $);\n",
    "  \\draw[<->] (p3) -- node[above] {C} (p4);\n",
    "\\end{tikzpicture}\n",
    "\\end{document}"
   ]
  },
  {
   "cell_type": "markdown",
   "id": "d3c9366e",
   "metadata": {},
   "source": [
    "From this figure, we can generate equations for the thickness and angle $\\alpha$."
   ]
  },
  {
   "cell_type": "markdown",
   "id": "c2fe2d47",
   "metadata": {},
   "source": [
    "$$\n",
    "t = r -r sin(\\alpha)\n",
    "$$\n",
    "\n",
    "$$\n",
    "C = 2 r cos(\\alpha)\n",
    "$$\n"
   ]
  },
  {
   "cell_type": "markdown",
   "id": "fba7f933",
   "metadata": {},
   "source": [
    "We are usually given the chord and the *camber* as a percentage of the chord. Our problem is now figuring out the equations for the thickness $t$ and $\\alpha$ ! Let's use the Python *sympy* package to solve this problem."
   ]
  },
  {
   "cell_type": "code",
   "execution_count": 3,
   "id": "f1a0e89a",
   "metadata": {},
   "outputs": [],
   "source": [
    "import sympy\n",
    "sympy.init_printing(use_latex='mathjax')"
   ]
  },
  {
   "cell_type": "code",
   "execution_count": 4,
   "id": "770b0735",
   "metadata": {},
   "outputs": [],
   "source": [
    "r,c,t,alpha = \\\n",
    "  sympy.symbols('r c t alpha')\n",
    "\n",
    "eq1 = 2 * r * sympy.cos(alpha) - c\n",
    "eq2 = r - r * sympy.sin(alpha) - t\n",
    "sol = sympy.solve([eq1,eq2],[r,alpha])"
   ]
  },
  {
   "cell_type": "code",
   "execution_count": 5,
   "id": "296aa19a",
   "metadata": {},
   "outputs": [
    {
     "name": "stdout",
     "output_type": "stream",
     "text": [
      "[(c**2/(8*t) + t/2, -acos(4*c*t/(c**2 + 4*t**2)) + 2*pi), (c**2/(8*t) + t/2, acos(4*c*t/(c**2 + 4*t**2)))]\n"
     ]
    }
   ],
   "source": [
    "print(sol)"
   ]
  },
  {
   "cell_type": "markdown",
   "id": "c3300acf",
   "metadata": {},
   "source": [
    "There are two angles that satisfy these equations, so we need to extract the correct one we will use.  Here are the results we need.\n",
    "\n",
    "The radius of the airfoil is given by this equation:"
   ]
  },
  {
   "cell_type": "code",
   "execution_count": 6,
   "id": "4b013328",
   "metadata": {},
   "outputs": [
    {
     "data": {
      "text/latex": [
       "$\\displaystyle \\frac{c^{2}}{8 t} + \\frac{t}{2}$"
      ],
      "text/plain": [
       "  2    \n",
       " c    t\n",
       "─── + ─\n",
       "8⋅t   2"
      ]
     },
     "metadata": {},
     "output_type": "display_data"
    }
   ],
   "source": [
    "display(sol[1][0])"
   ]
  },
  {
   "cell_type": "markdown",
   "id": "322252f4",
   "metadata": {},
   "source": [
    "The angle $\\alpha$ (in *radians*) is given by this equation:"
   ]
  },
  {
   "cell_type": "code",
   "execution_count": 7,
   "id": "0e1dca4c",
   "metadata": {},
   "outputs": [
    {
     "data": {
      "text/latex": [
       "$\\displaystyle \\operatorname{acos}{\\left(\\frac{4 c t}{c^{2} + 4 t^{2}} \\right)}$"
      ],
      "text/plain": [
       "    ⎛  4⋅c⋅t  ⎞\n",
       "acos⎜─────────⎟\n",
       "    ⎜ 2      2⎟\n",
       "    ⎝c  + 4⋅t ⎠"
      ]
     },
     "metadata": {},
     "output_type": "display_data"
    }
   ],
   "source": [
    "display(sol[1][1])"
   ]
  },
  {
   "cell_type": "markdown",
   "id": "7a39e69b",
   "metadata": {},
   "source": [
    "As a check, let's try an example for a chord of five inches, and a camber of five percent."
   ]
  },
  {
   "cell_type": "code",
   "execution_count": 8,
   "id": "5da7a0fb",
   "metadata": {},
   "outputs": [
    {
     "name": "stdout",
     "output_type": "stream",
     "text": [
      "12.625 78.57881372500071\n"
     ]
    }
   ],
   "source": [
    "import math\n",
    "\n",
    "c = 5;\n",
    "camber = 5;\n",
    "t = camber * c/100\n",
    "r = c**2/(8*t) + t/2\n",
    "alpha  =  math.acos(4*c*t/(c**2 + 4*t**2)) * 180/math.pi\n",
    "print(r, alpha)"
   ]
  },
  {
   "cell_type": "markdown",
   "id": "e10aa846",
   "metadata": {},
   "source": [
    "As a check, let's calculate the thickness using these values:"
   ]
  },
  {
   "cell_type": "code",
   "execution_count": 13,
   "id": "1b3bd0e8",
   "metadata": {},
   "outputs": [
    {
     "name": "stdout",
     "output_type": "stream",
     "text": [
      "0.25\n"
     ]
    }
   ],
   "source": [
    "thickness = r - r * math.sin(alpha*math.pi/180)\n",
    "print(thickness)"
   ]
  },
  {
   "cell_type": "markdown",
   "id": "d6519748",
   "metadata": {},
   "source": [
    "That looks correct!"
   ]
  },
  {
   "cell_type": "markdown",
   "id": "d21428a1",
   "metadata": {},
   "source": [
    "## Generating the Airfoil Height"
   ]
  },
  {
   "cell_type": "markdown",
   "id": "40051ffc",
   "metadata": {},
   "source": [
    "We will also need a way to figure out the height of the airfoil at some location along that airfoil axis. We can use the equation for a circle to set this up. "
   ]
  },
  {
   "cell_type": "code",
   "execution_count": 14,
   "id": "509a6573",
   "metadata": {},
   "outputs": [],
   "source": [
    "x, y, cx, cy, r, c, t, beta = sympy.symbols('x y cx cy r c t beta')"
   ]
  },
  {
   "cell_type": "code",
   "execution_count": 17,
   "id": "b0ab95a3",
   "metadata": {},
   "outputs": [],
   "source": [
    "eq3 =(x - cx)**2 + (y - cy)**2 - r"
   ]
  },
  {
   "cell_type": "code",
   "execution_count": 18,
   "id": "1a9c3c8d",
   "metadata": {},
   "outputs": [
    {
     "data": {
      "text/latex": [
       "$\\displaystyle \\left[ cy - \\sqrt{- cx^{2} + 2 cx x + r - x^{2}}, \\  cy + \\sqrt{- cx^{2} + 2 cx x + r - x^{2}}\\right]$"
      ],
      "text/plain": [
       "⎡        _________________________          _________________________⎤\n",
       "⎢       ╱     2                 2          ╱     2                 2 ⎥\n",
       "⎣cy - ╲╱  - cx  + 2⋅cx⋅x + r - x  , cy + ╲╱  - cx  + 2⋅cx⋅x + r - x  ⎦"
      ]
     },
     "execution_count": 18,
     "metadata": {},
     "output_type": "execute_result"
    }
   ],
   "source": [
    "sympy.solve(eq3,y)"
   ]
  },
  {
   "cell_type": "code",
   "execution_count": null,
   "id": "3d27b620",
   "metadata": {},
   "outputs": [],
   "source": []
  }
 ],
 "metadata": {
  "kernelspec": {
   "display_name": "Python 3 (ipykernel)",
   "language": "python",
   "name": "python3"
  },
  "language_info": {
   "codemirror_mode": {
    "name": "ipython",
    "version": 3
   },
   "file_extension": ".py",
   "mimetype": "text/x-python",
   "name": "python",
   "nbconvert_exporter": "python",
   "pygments_lexer": "ipython3",
   "version": "3.9.5"
  }
 },
 "nbformat": 4,
 "nbformat_minor": 5
}
