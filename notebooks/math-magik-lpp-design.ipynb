{
 "cells": [
  {
   "cell_type": "markdown",
   "id": "0601ec7f",
   "metadata": {},
   "source": [
    "# Math Magik LPP Design notes"
   ]
  },
  {
   "cell_type": "markdown",
   "id": "43e2d9e3",
   "metadata": {},
   "source": [
    "In this note, we will work through the development of Python code needed to generate the film covering we will use on the *math-magik-lpp* model. This model is using a simple circular arc airfoil, so let's begin by looking at the basic geometry of that airfoil.\n",
    "\n",
    "We will use the LaTeX *tikz* package to generate these figures. *Jupyter* can generate these images using the Python *itikz* package."
   ]
  },
  {
   "cell_type": "code",
   "execution_count": 1,
   "id": "5f5f756f",
   "metadata": {},
   "outputs": [],
   "source": [
    "%load_ext itikz"
   ]
  },
  {
   "cell_type": "code",
   "execution_count": 2,
   "id": "73f1c63c",
   "metadata": {},
   "outputs": [
    {
     "data": {
      "image/svg+xml": [
       "<svg xmlns=\"http://www.w3.org/2000/svg\" xmlns:xlink=\"http://www.w3.org/1999/xlink\" width=\"215.428pt\" height=\"106.676pt\" viewBox=\"0 0 215.428 106.676\" version=\"1.1\">\n",
       "<defs>\n",
       "<g>\n",
       "<symbol overflow=\"visible\" id=\"glyph0-0\">\n",
       "<path style=\"stroke:none;\" d=\"\"/>\n",
       "</symbol>\n",
       "<symbol overflow=\"visible\" id=\"glyph0-1\">\n",
       "<path style=\"stroke:none;\" d=\"M 1.671875 -3.3125 L 1.671875 -4.40625 L 0.28125 -4.296875 L 0.28125 -3.984375 C 0.984375 -3.984375 1.0625 -3.921875 1.0625 -3.421875 L 1.0625 -0.75 C 1.0625 -0.3125 0.953125 -0.3125 0.28125 -0.3125 L 0.28125 0 C 0.671875 -0.015625 1.140625 -0.03125 1.421875 -0.03125 C 1.8125 -0.03125 2.28125 -0.03125 2.6875 0 L 2.6875 -0.3125 L 2.46875 -0.3125 C 1.734375 -0.3125 1.71875 -0.421875 1.71875 -0.78125 L 1.71875 -2.3125 C 1.71875 -3.296875 2.140625 -4.1875 2.890625 -4.1875 C 2.953125 -4.1875 2.984375 -4.1875 3 -4.171875 C 2.96875 -4.171875 2.765625 -4.046875 2.765625 -3.78125 C 2.765625 -3.515625 2.984375 -3.359375 3.203125 -3.359375 C 3.375 -3.359375 3.625 -3.484375 3.625 -3.796875 C 3.625 -4.109375 3.3125 -4.40625 2.890625 -4.40625 C 2.15625 -4.40625 1.796875 -3.734375 1.671875 -3.3125 Z M 1.671875 -3.3125 \"/>\n",
       "</symbol>\n",
       "<symbol overflow=\"visible\" id=\"glyph0-2\">\n",
       "<path style=\"stroke:none;\" d=\"M 1.71875 -3.984375 L 3.15625 -3.984375 L 3.15625 -4.296875 L 1.71875 -4.296875 L 1.71875 -6.125 L 1.46875 -6.125 C 1.46875 -5.3125 1.171875 -4.25 0.1875 -4.203125 L 0.1875 -3.984375 L 1.03125 -3.984375 L 1.03125 -1.234375 C 1.03125 -0.015625 1.96875 0.109375 2.328125 0.109375 C 3.03125 0.109375 3.3125 -0.59375 3.3125 -1.234375 L 3.3125 -1.796875 L 3.0625 -1.796875 L 3.0625 -1.25 C 3.0625 -0.515625 2.765625 -0.140625 2.390625 -0.140625 C 1.71875 -0.140625 1.71875 -1.046875 1.71875 -1.21875 Z M 1.71875 -3.984375 \"/>\n",
       "</symbol>\n",
       "<symbol overflow=\"visible\" id=\"glyph0-3\">\n",
       "<path style=\"stroke:none;\" d=\"M 1.109375 -2.515625 C 1.171875 -4 2.015625 -4.25 2.359375 -4.25 C 3.375 -4.25 3.484375 -2.90625 3.484375 -2.515625 Z M 1.109375 -2.296875 L 3.890625 -2.296875 C 4.109375 -2.296875 4.140625 -2.296875 4.140625 -2.515625 C 4.140625 -3.5 3.59375 -4.46875 2.359375 -4.46875 C 1.203125 -4.46875 0.28125 -3.4375 0.28125 -2.1875 C 0.28125 -0.859375 1.328125 0.109375 2.46875 0.109375 C 3.6875 0.109375 4.140625 -1 4.140625 -1.1875 C 4.140625 -1.28125 4.0625 -1.3125 4 -1.3125 C 3.921875 -1.3125 3.890625 -1.25 3.875 -1.171875 C 3.53125 -0.140625 2.625 -0.140625 2.53125 -0.140625 C 2.03125 -0.140625 1.640625 -0.4375 1.40625 -0.8125 C 1.109375 -1.28125 1.109375 -1.9375 1.109375 -2.296875 Z M 1.109375 -2.296875 \"/>\n",
       "</symbol>\n",
       "<symbol overflow=\"visible\" id=\"glyph0-4\">\n",
       "<path style=\"stroke:none;\" d=\"M 1.765625 -6.921875 L 0.328125 -6.8125 L 0.328125 -6.5 C 1.03125 -6.5 1.109375 -6.4375 1.109375 -5.9375 L 1.109375 -0.75 C 1.109375 -0.3125 1 -0.3125 0.328125 -0.3125 L 0.328125 0 C 0.65625 -0.015625 1.1875 -0.03125 1.4375 -0.03125 C 1.6875 -0.03125 2.171875 -0.015625 2.546875 0 L 2.546875 -0.3125 C 1.875 -0.3125 1.765625 -0.3125 1.765625 -0.75 Z M 1.765625 -6.921875 \"/>\n",
       "</symbol>\n",
       "<symbol overflow=\"visible\" id=\"glyph0-5\">\n",
       "<path style=\"stroke:none;\" d=\"M 0.5625 -3.40625 C 0.5625 -1.34375 2.171875 0.21875 4.03125 0.21875 C 5.65625 0.21875 6.625 -1.171875 6.625 -2.328125 C 6.625 -2.421875 6.625 -2.5 6.5 -2.5 C 6.390625 -2.5 6.390625 -2.4375 6.375 -2.328125 C 6.296875 -0.90625 5.234375 -0.09375 4.140625 -0.09375 C 3.53125 -0.09375 1.578125 -0.421875 1.578125 -3.40625 C 1.578125 -6.375 3.53125 -6.71875 4.140625 -6.71875 C 5.21875 -6.71875 6.109375 -5.8125 6.3125 -4.359375 C 6.328125 -4.21875 6.328125 -4.1875 6.46875 -4.1875 C 6.625 -4.1875 6.625 -4.21875 6.625 -4.421875 L 6.625 -6.78125 C 6.625 -6.953125 6.625 -7.03125 6.515625 -7.03125 C 6.484375 -7.03125 6.4375 -7.03125 6.359375 -6.90625 L 5.859375 -6.171875 C 5.5 -6.53125 4.984375 -7.03125 4.03125 -7.03125 C 2.15625 -7.03125 0.5625 -5.4375 0.5625 -3.40625 Z M 0.5625 -3.40625 \"/>\n",
       "</symbol>\n",
       "<symbol overflow=\"visible\" id=\"glyph1-0\">\n",
       "<path style=\"stroke:none;\" d=\"\"/>\n",
       "</symbol>\n",
       "<symbol overflow=\"visible\" id=\"glyph1-1\">\n",
       "<path style=\"stroke:none;\" d=\"M 4.75 -2.359375 C 4.75 -3.921875 3.828125 -4.40625 3.09375 -4.40625 C 1.71875 -4.40625 0.40625 -2.984375 0.40625 -1.578125 C 0.40625 -0.640625 1 0.109375 2.03125 0.109375 C 2.65625 0.109375 3.375 -0.125 4.125 -0.734375 C 4.25 -0.203125 4.578125 0.109375 5.03125 0.109375 C 5.5625 0.109375 5.875 -0.4375 5.875 -0.59375 C 5.875 -0.671875 5.8125 -0.703125 5.75 -0.703125 C 5.6875 -0.703125 5.65625 -0.671875 5.625 -0.59375 C 5.4375 -0.109375 5.078125 -0.109375 5.0625 -0.109375 C 4.75 -0.109375 4.75 -0.890625 4.75 -1.125 C 4.75 -1.328125 4.75 -1.359375 4.859375 -1.46875 C 5.796875 -2.65625 6 -3.8125 6 -3.8125 C 6 -3.84375 5.984375 -3.921875 5.875 -3.921875 C 5.78125 -3.921875 5.78125 -3.890625 5.734375 -3.703125 C 5.546875 -3.078125 5.21875 -2.328125 4.75 -1.734375 Z M 4.09375 -0.984375 C 3.203125 -0.21875 2.4375 -0.109375 2.046875 -0.109375 C 1.453125 -0.109375 1.140625 -0.5625 1.140625 -1.203125 C 1.140625 -1.6875 1.40625 -2.765625 1.71875 -3.265625 C 2.1875 -4 2.734375 -4.1875 3.078125 -4.1875 C 4.0625 -4.1875 4.0625 -2.875 4.0625 -2.109375 C 4.0625 -1.734375 4.0625 -1.15625 4.09375 -0.984375 Z M 4.09375 -0.984375 \"/>\n",
       "</symbol>\n",
       "</g>\n",
       "<clipPath id=\"clip1\">\n",
       "  <path d=\"M 16 106 L 215.429688 106 L 215.429688 106.675781 L 16 106.675781 Z M 16 106 \"/>\n",
       "</clipPath>\n",
       "<clipPath id=\"clip2\">\n",
       "  <path d=\"M 104 44 L 178 44 L 178 106.675781 L 104 106.675781 Z M 104 44 \"/>\n",
       "</clipPath>\n",
       "<clipPath id=\"clip3\">\n",
       "  <path d=\"M 60 50 L 122 50 L 122 106.675781 L 60 106.675781 Z M 60 50 \"/>\n",
       "</clipPath>\n",
       "<clipPath id=\"clip4\">\n",
       "  <path d=\"M 115 21 L 117 21 L 117 106.675781 L 115 106.675781 Z M 115 21 \"/>\n",
       "</clipPath>\n",
       "<clipPath id=\"clip5\">\n",
       "  <path d=\"M 130 80 L 150 80 L 150 106.675781 L 130 106.675781 Z M 130 80 \"/>\n",
       "</clipPath>\n",
       "</defs>\n",
       "<g id=\"surface1\">\n",
       "<g clip-path=\"url(#clip1)\" clip-rule=\"nonzero\">\n",
       "<path style=\"fill:none;stroke-width:0.3985;stroke-linecap:butt;stroke-linejoin:miter;stroke:rgb(0%,0%,0%);stroke-opacity:1;stroke-miterlimit:10;\" d=\"M 0.0006875 -0.00034375 L 198.426469 -0.00034375 \" transform=\"matrix(1,0,0,-1,16.804,106.277)\"/>\n",
       "</g>\n",
       "<g clip-path=\"url(#clip2)\" clip-rule=\"nonzero\">\n",
       "<path style=\"fill:none;stroke-width:0.79701;stroke-linecap:butt;stroke-linejoin:miter;stroke:rgb(0%,0%,0%);stroke-opacity:1;stroke-miterlimit:10;\" d=\"M 99.215531 -0.00034375 L 149.324906 50.109031 \" transform=\"matrix(1,0,0,-1,16.804,106.277)\"/>\n",
       "</g>\n",
       "<g style=\"fill:rgb(0%,0%,0%);fill-opacity:1;\">\n",
       "  <use xlink:href=\"#glyph0-1\" x=\"139.12\" y=\"77.504\"/>\n",
       "</g>\n",
       "<g clip-path=\"url(#clip3)\" clip-rule=\"nonzero\">\n",
       "<path style=\"fill:none;stroke-width:0.3985;stroke-linecap:butt;stroke-linejoin:miter;stroke:rgb(0%,0%,0%);stroke-opacity:1;stroke-miterlimit:10;\" d=\"M 99.215531 -0.00034375 L 49.10225 50.109031 \" transform=\"matrix(1,0,0,-1,16.804,106.277)\"/>\n",
       "</g>\n",
       "<g clip-path=\"url(#clip4)\" clip-rule=\"nonzero\">\n",
       "<path style=\"fill:none;stroke-width:0.3985;stroke-linecap:butt;stroke-linejoin:miter;stroke:rgb(0%,0%,0%);stroke-opacity:1;stroke-miterlimit:10;\" d=\"M 99.215531 -0.00034375 L 99.215531 85.038719 \" transform=\"matrix(1,0,0,-1,16.804,106.277)\"/>\n",
       "</g>\n",
       "<path style=\"fill:none;stroke-width:1.59404;stroke-linecap:butt;stroke-linejoin:miter;stroke:rgb(0%,0%,0%);stroke-opacity:1;stroke-miterlimit:10;\" d=\"M 149.324906 50.109031 C 121.649125 77.784812 76.778031 77.784812 49.10225 50.109031 \" transform=\"matrix(1,0,0,-1,16.804,106.277)\"/>\n",
       "<g clip-path=\"url(#clip5)\" clip-rule=\"nonzero\">\n",
       "<path style=\"fill:none;stroke-width:0.3985;stroke-linecap:butt;stroke-linejoin:miter;stroke:rgb(0%,0%,0%);stroke-opacity:1;stroke-miterlimit:10;\" d=\"M 127.559281 -0.00034375 C 127.559281 7.515281 124.574906 14.730125 119.2585 20.042625 \" transform=\"matrix(1,0,0,-1,16.804,106.277)\"/>\n",
       "</g>\n",
       "<path style=\"fill:none;stroke-width:0.3985;stroke-linecap:butt;stroke-linejoin:miter;stroke:rgb(0%,0%,0%);stroke-opacity:1;stroke-miterlimit:10;\" d=\"M 149.324906 50.109031 L 49.10225 50.109031 \" transform=\"matrix(1,0,0,-1,16.804,106.277)\"/>\n",
       "<g style=\"fill:rgb(0%,0%,0%);fill-opacity:1;\">\n",
       "  <use xlink:href=\"#glyph0-2\" x=\"169.646\" y=\"59.232\"/>\n",
       "  <use xlink:href=\"#glyph0-3\" x=\"173.520455\" y=\"59.232\"/>\n",
       "</g>\n",
       "<g style=\"fill:rgb(0%,0%,0%);fill-opacity:1;\">\n",
       "  <use xlink:href=\"#glyph0-4\" x=\"55.191\" y=\"59.627\"/>\n",
       "  <use xlink:href=\"#glyph0-3\" x=\"57.95861\" y=\"59.627\"/>\n",
       "</g>\n",
       "<g style=\"fill:rgb(0%,0%,0%);fill-opacity:1;\">\n",
       "  <use xlink:href=\"#glyph1-1\" x=\"144.236\" y=\"95.405\"/>\n",
       "</g>\n",
       "<path style=\"fill:none;stroke-width:0.3985;stroke-linecap:butt;stroke-linejoin:miter;stroke:rgb(0%,0%,0%);stroke-opacity:1;stroke-miterlimit:10;\" d=\"M 148.863969 92.632469 L 49.563187 92.632469 \" transform=\"matrix(1,0,0,-1,16.804,106.277)\"/>\n",
       "<path style=\"fill:none;stroke-width:0.31879;stroke-linecap:round;stroke-linejoin:round;stroke:rgb(0%,0%,0%);stroke-opacity:1;stroke-miterlimit:10;\" d=\"M -1.197264 1.595639 C -1.095701 0.997982 -0.00195125 0.099545 0.29883 0.00188875 C -0.00195125 -0.0996738 -1.095701 -0.998111 -1.197264 -1.595768 \" transform=\"matrix(1,0,0,-1,165.66992,13.64642)\"/>\n",
       "<path style=\"fill:none;stroke-width:0.31879;stroke-linecap:round;stroke-linejoin:round;stroke:rgb(0%,0%,0%);stroke-opacity:1;stroke-miterlimit:10;\" d=\"M -1.1968 1.595768 C -1.095237 0.998111 -0.0014875 0.0996738 0.299294 -0.00188875 C -0.0014875 -0.099545 -1.095237 -0.997982 -1.1968 -1.595639 \" transform=\"matrix(-1,0,0,1,66.3657,13.64642)\"/>\n",
       "<g style=\"fill:rgb(0%,0%,0%);fill-opacity:1;\">\n",
       "  <use xlink:href=\"#glyph0-5\" x=\"112.419\" y=\"10.128\"/>\n",
       "</g>\n",
       "</g>\n",
       "</svg>"
      ],
      "text/plain": [
       "<IPython.core.display.SVG object>"
      ]
     },
     "execution_count": 2,
     "metadata": {},
     "output_type": "execute_result"
    }
   ],
   "source": [
    "%%itikz\n",
    "\n",
    "\\documentclass{standalone}\n",
    "\\usepackage{tikz}\n",
    "\\begin{document}\n",
    "\\usetikzlibrary{calc}\n",
    "\\begin{tikzpicture}\n",
    "  \\draw(0,0) -- (7,0);\n",
    "  \\draw[thick](3.5,0) -> node[above] {r} ++(45:2.5) coordinate (p1);\n",
    "  \\draw(3.5,0) -- ++(135:2.5) coordinate (p2);\n",
    "  \\draw(3.5,0) -- (3.5,3);\n",
    "  \\draw[ultra thick] (p1) arc (45:135:2.5);\n",
    "  \\draw (4.5,0) arc (0:45:1);\n",
    "  \\draw (p1) -- (p2);\n",
    "  \\node[right] at (p1) {te};\n",
    "  \\node[left] at (p2) {le};\n",
    "  \\coordinate (angle_label) at ($ (3.5,0) + (22.5:1.2) $);\n",
    "  \\node at (angle_label) {$\\alpha$};\n",
    "  \\coordinate (p3) at ($(p1) + (0,1.5) $);\n",
    "  \\coordinate (p4) at ($ (p2) + (0,1.5) $);\n",
    "  \\draw[<->] (p3) -- node[above] {C} (p4);\n",
    "\\end{tikzpicture}\n",
    "\\end{document}"
   ]
  },
  {
   "cell_type": "markdown",
   "id": "d3c9366e",
   "metadata": {},
   "source": [
    "From this figure, we can generate equations for the thickness and angle $\\alpha$."
   ]
  },
  {
   "cell_type": "markdown",
   "id": "c2fe2d47",
   "metadata": {},
   "source": [
    "$$\n",
    "t = r -r sin(\\alpha)\n",
    "$$\n",
    "\n",
    "$$\n",
    "C = 2 r cos(\\alpha)\n",
    "$$\n"
   ]
  },
  {
   "cell_type": "markdown",
   "id": "fba7f933",
   "metadata": {},
   "source": [
    "We are usually given the chord and the *camber* as a percentage of the chord. Our problem is now figuring out the equations for the thickness $t$ and $\\alpha$ ! Let's use the Python *sympy* package to solve this problem."
   ]
  },
  {
   "cell_type": "code",
   "execution_count": 5,
   "id": "f1a0e89a",
   "metadata": {},
   "outputs": [],
   "source": [
    "import sympy\n",
    "sympy.init_printing(use_latex='mathjax')"
   ]
  },
  {
   "cell_type": "code",
   "execution_count": 6,
   "id": "770b0735",
   "metadata": {},
   "outputs": [],
   "source": [
    "r,c,t,alpha = \\\n",
    "  sympy.symbols('r c t alpha')\n",
    "\n",
    "eq1 = 2 * r * sympy.cos(alpha) - c\n",
    "eq2 = r - r * sympy.sin(alpha) - t\n",
    "sol = sympy.solve([eq1,eq2],[r,alpha])"
   ]
  },
  {
   "cell_type": "code",
   "execution_count": 7,
   "id": "296aa19a",
   "metadata": {},
   "outputs": [
    {
     "name": "stdout",
     "output_type": "stream",
     "text": [
      "[(c**2/(8*t) + t/2, -acos(4*c*t/(c**2 + 4*t**2)) + 2*pi), (c**2/(8*t) + t/2, acos(4*c*t/(c**2 + 4*t**2)))]\n"
     ]
    }
   ],
   "source": [
    "print(sol)"
   ]
  },
  {
   "cell_type": "markdown",
   "id": "c3300acf",
   "metadata": {},
   "source": [
    "There are two angles that satisfy these equations, so we need to extract the correct one we will use.  Here are the results we need.\n",
    "\n",
    "The radius of the airfoil is given by this equation:"
   ]
  },
  {
   "cell_type": "code",
   "execution_count": 8,
   "id": "4b013328",
   "metadata": {},
   "outputs": [
    {
     "data": {
      "text/latex": [
       "$\\displaystyle \\frac{c^{2}}{8 t} + \\frac{t}{2}$"
      ],
      "text/plain": [
       "  2    \n",
       " c    t\n",
       "─── + ─\n",
       "8⋅t   2"
      ]
     },
     "metadata": {},
     "output_type": "display_data"
    }
   ],
   "source": [
    "display(sol[1][0])"
   ]
  },
  {
   "cell_type": "markdown",
   "id": "322252f4",
   "metadata": {},
   "source": [
    "The angle $\\alpha$ (in *radians*) is given by this equation:"
   ]
  },
  {
   "cell_type": "code",
   "execution_count": 9,
   "id": "0e1dca4c",
   "metadata": {},
   "outputs": [
    {
     "data": {
      "text/latex": [
       "$\\displaystyle \\operatorname{acos}{\\left(\\frac{4 c t}{c^{2} + 4 t^{2}} \\right)}$"
      ],
      "text/plain": [
       "    ⎛  4⋅c⋅t  ⎞\n",
       "acos⎜─────────⎟\n",
       "    ⎜ 2      2⎟\n",
       "    ⎝c  + 4⋅t ⎠"
      ]
     },
     "metadata": {},
     "output_type": "display_data"
    }
   ],
   "source": [
    "display(sol[1][1])"
   ]
  },
  {
   "cell_type": "markdown",
   "id": "7a39e69b",
   "metadata": {},
   "source": [
    "As a check, let's try an example for a chord of five inches, and a camber of five percent."
   ]
  },
  {
   "cell_type": "code",
   "execution_count": 10,
   "id": "5da7a0fb",
   "metadata": {},
   "outputs": [
    {
     "name": "stdout",
     "output_type": "stream",
     "text": [
      "12.625 78.57881372500071\n"
     ]
    }
   ],
   "source": [
    "import math\n",
    "\n",
    "c = 5;\n",
    "camber = 5;\n",
    "t = camber * c/100\n",
    "r = c**2/(8*t) + t/2\n",
    "alpha  =  math.acos(4*c*t/(c**2 + 4*t**2)) * 180/math.pi\n",
    "print(r, alpha)"
   ]
  },
  {
   "cell_type": "markdown",
   "id": "1e99ef36",
   "metadata": {},
   "source": [
    "As a check, let's calculate the thickness using these values:"
   ]
  },
  {
   "cell_type": "code",
   "execution_count": 11,
   "id": "b7bd2b7a",
   "metadata": {},
   "outputs": [
    {
     "name": "stdout",
     "output_type": "stream",
     "text": [
      "0.25\n"
     ]
    }
   ],
   "source": [
    "thickness = r - r * math.sin(alpha*math.pi/180)\n",
    "print(thickness)"
   ]
  },
  {
   "cell_type": "markdown",
   "id": "f4935f49",
   "metadata": {},
   "source": [
    "That looks correct!"
   ]
  },
  {
   "cell_type": "markdown",
   "id": "0e55e2d3",
   "metadata": {},
   "source": [
    "## Generating the Airfoil Height"
   ]
  },
  {
   "cell_type": "markdown",
   "id": "bfb01af0",
   "metadata": {},
   "source": [
    "We will also need a way to figure out the height of the airfoil at some location along that airfoil axis. We can use the equation for a circle to set this up. "
   ]
  },
  {
   "cell_type": "code",
   "execution_count": 12,
   "id": "5ba5a4a9",
   "metadata": {},
   "outputs": [],
   "source": [
    "x, y, h, w, r, c, t, beta = sympy.symbols('x y h w r c t beta')"
   ]
  },
  {
   "cell_type": "code",
   "execution_count": 13,
   "id": "9ac94960",
   "metadata": {},
   "outputs": [
    {
     "data": {
      "text/latex": [
       "$\\displaystyle - r^{2} + \\left(- h + y\\right)^{2} + \\left(- w + x\\right)^{2}$"
      ],
      "text/plain": [
       "   2           2           2\n",
       "- r  + (-h + y)  + (-w + x) "
      ]
     },
     "metadata": {},
     "output_type": "display_data"
    }
   ],
   "source": [
    "eq3 =(x - w)**2 + (y - h)**2 - r**2\n",
    "display(eq3)"
   ]
  },
  {
   "cell_type": "code",
   "execution_count": 14,
   "id": "ab90e72d",
   "metadata": {},
   "outputs": [
    {
     "data": {
      "text/latex": [
       "$\\displaystyle \\left[ h - \\sqrt{\\left(r - w + x\\right) \\left(r + w - x\\right)}, \\  h + \\sqrt{\\left(r - w + x\\right) \\left(r + w - x\\right)}\\right]$"
      ],
      "text/plain": [
       "⎡      _________________________        _________________________⎤\n",
       "⎣h - ╲╱ (r - w + x)⋅(r + w - x) , h + ╲╱ (r - w + x)⋅(r + w - x) ⎦"
      ]
     },
     "metadata": {},
     "output_type": "display_data"
    }
   ],
   "source": [
    "eq4 = sympy.solve(eq3,y)\n",
    "display(eq4)"
   ]
  },
  {
   "cell_type": "code",
   "execution_count": 15,
   "id": "fa80bfb8",
   "metadata": {},
   "outputs": [
    {
     "data": {
      "text/latex": [
       "$\\displaystyle h + \\sqrt{\\left(- \\frac{c}{2} + r + x\\right) \\left(\\frac{c}{2} + r - x\\right)}$"
      ],
      "text/plain": [
       "        ___________________________\n",
       "       ╱ ⎛  c        ⎞ ⎛c        ⎞ \n",
       "h +   ╱  ⎜- ─ + r + x⎟⋅⎜─ + r - x⎟ \n",
       "    ╲╱   ⎝  2        ⎠ ⎝2        ⎠ "
      ]
     },
     "metadata": {},
     "output_type": "display_data"
    }
   ],
   "source": [
    "eq5 = eq4[1]\n",
    "eq6 = eq5.subs(w,c/2)\n",
    "display(eq6)"
   ]
  },
  {
   "cell_type": "code",
   "execution_count": 16,
   "id": "a4f4ef9b",
   "metadata": {},
   "outputs": [
    {
     "data": {
      "text/latex": [
       "$\\displaystyle - r + t + \\sqrt{\\left(- \\frac{c}{2} + r + x\\right) \\left(\\frac{c}{2} + r - x\\right)}$"
      ],
      "text/plain": [
       "             ___________________________\n",
       "            ╱ ⎛  c        ⎞ ⎛c        ⎞ \n",
       "-r + t +   ╱  ⎜- ─ + r + x⎟⋅⎜─ + r - x⎟ \n",
       "         ╲╱   ⎝  2        ⎠ ⎝2        ⎠ "
      ]
     },
     "metadata": {},
     "output_type": "display_data"
    }
   ],
   "source": [
    "eq7 = eq6.subs(h,t-r)\n",
    "display(eq7)"
   ]
  },
  {
   "cell_type": "code",
   "execution_count": 17,
   "id": "d654780a",
   "metadata": {},
   "outputs": [
    {
     "name": "stdout",
     "output_type": "stream",
     "text": [
      "-r + t + sqrt((-c/2 + r + x)*(c/2 + r - x))\n"
     ]
    }
   ],
   "source": [
    "print(eq7)"
   ]
  },
  {
   "cell_type": "markdown",
   "id": "2f8713c1",
   "metadata": {},
   "source": [
    "That is a bit messy, but Python will not care. \n",
    "\n",
    "Again, we need to test this equation. Lets set up a function that returns the height for some value of $x$ ranging from 0 to 1. (This will be some fraction of the chord)."
   ]
  },
  {
   "cell_type": "code",
   "execution_count": 18,
   "id": "1b316c7b",
   "metadata": {},
   "outputs": [],
   "source": [
    "def height(x):\n",
    "    r = 12.625\n",
    "    t = 0.25\n",
    "    c = 5\n",
    "    x = x * c\n",
    "    return -r + t + math.sqrt((-c/2 + r + x)*(c/2 + r - x))"
   ]
  },
  {
   "cell_type": "markdown",
   "id": "7de458a9",
   "metadata": {},
   "source": [
    "Now we can try this for several values of $X$:"
   ]
  },
  {
   "cell_type": "code",
   "execution_count": 19,
   "id": "8b2d7ba7",
   "metadata": {},
   "outputs": [
    {
     "name": "stdout",
     "output_type": "stream",
     "text": [
      "0.0\n",
      "0.0905776039459969\n",
      "0.1605743785436502\n",
      "0.21033372620686563\n",
      "0.2400951244927203\n",
      "0.25\n",
      "0.2400951244927203\n",
      "0.21033372620686563\n",
      "0.1605743785436502\n",
      "0.0905776039459969\n",
      "0.0\n"
     ]
    }
   ],
   "source": [
    "dx = 0.1\n",
    "xc = 0.0\n",
    "for n in range(11):\n",
    "    print(height(xc))\n",
    "    xc = xc + dx"
   ]
  },
  {
   "cell_type": "markdown",
   "id": "b7ae8e34",
   "metadata": {},
   "source": [
    "That looks exactly like it is supposed to look!\n"
   ]
  },
  {
   "cell_type": "markdown",
   "id": "1a7e7726",
   "metadata": {},
   "source": [
    "## Wing Outline"
   ]
  },
  {
   "cell_type": "code",
   "execution_count": null,
   "id": "d00a67dc",
   "metadata": {},
   "outputs": [],
   "source": []
  },
  {
   "cell_type": "markdown",
   "id": "bece8e5f",
   "metadata": {},
   "source": [
    "We still have some work to do. To use this function properly, we need to generalize it so we can feed it dirrerent chord and camber values. Then we need to generate functions that give us the $x_{le}$ and $x_{te}$ values for the wing for some position $y$. For this design, we will use a constant camber across the center section, and use a linear taper from the edge of the center section to the wing tips. \n",
    "\n",
    "Let's. generalize the height function first. This requires combining equations we have presented earlier."
   ]
  },
  {
   "cell_type": "code",
   "execution_count": 20,
   "id": "015fc226",
   "metadata": {},
   "outputs": [],
   "source": [
    "def wing_height(chord, camber, x):\n",
    "    t = camber * chord/100\n",
    "    r = chord**2/(8*t) + t/2\n",
    "    x = chord * x\n",
    "    return -r + t + math.sqrt((-chord/2 + r + x)*(chord/2 + r - x))"
   ]
  },
  {
   "cell_type": "code",
   "execution_count": 21,
   "id": "1483edc6",
   "metadata": {},
   "outputs": [
    {
     "name": "stdout",
     "output_type": "stream",
     "text": [
      "0.25\n"
     ]
    }
   ],
   "source": [
    "print(wing_height(5.0,5.0,0.5))"
   ]
  },
  {
   "cell_type": "markdown",
   "id": "56ffc657",
   "metadata": {},
   "source": [
    "The leading edge runs along the $y$ axis until we reach the point wher the circluar tip is located. We need to span and the tip radius to calculate the offset. Again the equation for a circle gives us the required equation."
   ]
  },
  {
   "cell_type": "code",
   "execution_count": 22,
   "id": "77531ef9",
   "metadata": {},
   "outputs": [],
   "source": [
    "x, y, s, r = sympy.symbols('x y s r')"
   ]
  },
  {
   "cell_type": "code",
   "execution_count": 23,
   "id": "79941534",
   "metadata": {},
   "outputs": [],
   "source": [
    "eq7 = (x -r)**2 + y**2 - r**2"
   ]
  },
  {
   "cell_type": "code",
   "execution_count": 24,
   "id": "c127d4ea",
   "metadata": {},
   "outputs": [],
   "source": [
    "sol3 = sympy.solve(eq7, x)"
   ]
  },
  {
   "cell_type": "code",
   "execution_count": 25,
   "id": "fd4856f5",
   "metadata": {},
   "outputs": [
    {
     "data": {
      "text/latex": [
       "$\\displaystyle \\left[ r - \\sqrt{\\left(r - y\\right) \\left(r + y\\right)}, \\  r + \\sqrt{\\left(r - y\\right) \\left(r + y\\right)}\\right]$"
      ],
      "text/plain": [
       "⎡      _________________        _________________⎤\n",
       "⎣r - ╲╱ (r - y)⋅(r + y) , r + ╲╱ (r - y)⋅(r + y) ⎦"
      ]
     },
     "metadata": {},
     "output_type": "display_data"
    }
   ],
   "source": [
    "display(sol3)"
   ]
  },
  {
   "cell_type": "markdown",
   "id": "6bd62dfe",
   "metadata": {},
   "source": [
    "The first solution is the one we need."
   ]
  },
  {
   "cell_type": "code",
   "execution_count": 26,
   "id": "e5ae3328",
   "metadata": {},
   "outputs": [],
   "source": [
    "def xle(s,r,y):\n",
    "    \"\"\"s is the half span, r is the tip radius, Y ranges from -1 to +1\"\"\"\n",
    "    y = y * s\n",
    "    if abs(y) < s - r:\n",
    "        return 0.0\n",
    "    yt = abs(y) - (s - r)\n",
    "    return r - math.sqrt((r - yt) *(r + yt))"
   ]
  },
  {
   "cell_type": "code",
   "execution_count": 27,
   "id": "4f386e8f",
   "metadata": {},
   "outputs": [
    {
     "name": "stdout",
     "output_type": "stream",
     "text": [
      "2.0\n"
     ]
    }
   ],
   "source": [
    "print(xle(9.0,2.0,1.0))"
   ]
  },
  {
   "cell_type": "code",
   "execution_count": 28,
   "id": "a3e08084",
   "metadata": {},
   "outputs": [],
   "source": [
    "def xte(chord, y):\n",
    "    return chord"
   ]
  },
  {
   "cell_type": "markdown",
   "id": "4465ba16",
   "metadata": {},
   "source": [
    "Now, let's build a function that returns the local camber. This will be constant until we reach the tip, then taper linearly to zero at the tip."
   ]
  },
  {
   "cell_type": "code",
   "execution_count": 29,
   "id": "b54daeaf",
   "metadata": {},
   "outputs": [],
   "source": [
    "def camber_y(s, yt, c, y):\n",
    "    \"\"\"S is the half span, yt is the tip location, c is the base camber, and y ranges from -1 to +1\"\"\"\n",
    "    y = abs(y) * s\n",
    "    if y < yt:\n",
    "       return c\n",
    "    taper = 1.0 - (y - yt) / (s - yt)\n",
    "    return taper * c"
   ]
  },
  {
   "cell_type": "code",
   "execution_count": 30,
   "id": "abfa44da",
   "metadata": {},
   "outputs": [
    {
     "name": "stdout",
     "output_type": "stream",
     "text": [
      "5.0\n"
     ]
    }
   ],
   "source": [
    "print(camber_y(9, 6, 5.0, -6/9))"
   ]
  },
  {
   "cell_type": "markdown",
   "id": "0b5e7412",
   "metadata": {},
   "source": [
    "We now have the pieces to generate the covering matrix needed bu OpenSCAD."
   ]
  },
  {
   "cell_type": "code",
   "execution_count": 31,
   "id": "d5410fcd",
   "metadata": {},
   "outputs": [],
   "source": [
    "def gen_covering(span, chord, camber, yt, rtip, nx, ny):\n",
    "    \"\"\"\n",
    "    span is the half wingspan\n",
    "    chord is the root chord width\n",
    "    yt is the start of the tip\n",
    "    rtip is the tip radius\n",
    "    nx and ny are the sizes of the matrix\n",
    "    \"\"\"\n",
    "    dy = 1.0 / ny\n",
    "    y = 0.0\n",
    "    for i in range(ny + 1):\n",
    "        x0 = xle(span, rtip, y)\n",
    "        x1 = xte(chord, y)\n",
    "        local_chord = x1 - x0\n",
    "        local_camber = camber_y(span,yt,camber,y)\n",
    "        x = 0.0\n",
    "        for j in range(nx + 1):\n",
    "            h = wing_height(local_chord, local_camber, x)\n",
    "            lx = x0 + x * local_chord\n",
    "            ly = y * span\n",
    "            g_pt = \"[{0:.2f}, {1:.2f}, {2:.2f}]\".format(lx, ly, h)\n",
    "            print(g_pt)\n",
    "            x = x + dx\n",
    "            if x > 1.0: x = 1.0\n",
    "        y = y + dy\n",
    "        if y > 1.0: y = 1.0"
   ]
  },
  {
   "cell_type": "code",
   "execution_count": 32,
   "id": "a20b87c6",
   "metadata": {},
   "outputs": [
    {
     "name": "stdout",
     "output_type": "stream",
     "text": [
      "[0.00, 0.00, 0.00]\n",
      "[0.50, 0.00, 0.09]\n",
      "[1.00, 0.00, 0.16]\n",
      "[1.50, 0.00, 0.21]\n",
      "[2.00, 0.00, 0.24]\n",
      "[2.50, 0.00, 0.25]\n",
      "[3.00, 0.00, 0.24]\n",
      "[3.50, 0.00, 0.21]\n",
      "[4.00, 0.00, 0.16]\n",
      "[4.50, 0.00, 0.09]\n",
      "[5.00, 0.00, 0.00]\n",
      "[0.00, 0.90, 0.00]\n",
      "[0.50, 0.90, 0.09]\n",
      "[1.00, 0.90, 0.16]\n",
      "[1.50, 0.90, 0.21]\n",
      "[2.00, 0.90, 0.24]\n",
      "[2.50, 0.90, 0.25]\n",
      "[3.00, 0.90, 0.24]\n",
      "[3.50, 0.90, 0.21]\n",
      "[4.00, 0.90, 0.16]\n",
      "[4.50, 0.90, 0.09]\n",
      "[5.00, 0.90, 0.00]\n",
      "[0.00, 1.80, 0.00]\n",
      "[0.50, 1.80, 0.09]\n",
      "[1.00, 1.80, 0.16]\n",
      "[1.50, 1.80, 0.21]\n",
      "[2.00, 1.80, 0.24]\n",
      "[2.50, 1.80, 0.25]\n",
      "[3.00, 1.80, 0.24]\n",
      "[3.50, 1.80, 0.21]\n",
      "[4.00, 1.80, 0.16]\n",
      "[4.50, 1.80, 0.09]\n",
      "[5.00, 1.80, 0.00]\n",
      "[0.00, 2.70, 0.00]\n",
      "[0.50, 2.70, 0.09]\n",
      "[1.00, 2.70, 0.16]\n",
      "[1.50, 2.70, 0.21]\n",
      "[2.00, 2.70, 0.24]\n",
      "[2.50, 2.70, 0.25]\n",
      "[3.00, 2.70, 0.24]\n",
      "[3.50, 2.70, 0.21]\n",
      "[4.00, 2.70, 0.16]\n",
      "[4.50, 2.70, 0.09]\n",
      "[5.00, 2.70, 0.00]\n",
      "[0.00, 3.60, 0.00]\n",
      "[0.50, 3.60, 0.09]\n",
      "[1.00, 3.60, 0.16]\n",
      "[1.50, 3.60, 0.21]\n",
      "[2.00, 3.60, 0.24]\n",
      "[2.50, 3.60, 0.25]\n",
      "[3.00, 3.60, 0.24]\n",
      "[3.50, 3.60, 0.21]\n",
      "[4.00, 3.60, 0.16]\n",
      "[4.50, 3.60, 0.09]\n",
      "[5.00, 3.60, 0.00]\n",
      "[0.00, 4.50, 0.00]\n",
      "[0.50, 4.50, 0.09]\n",
      "[1.00, 4.50, 0.16]\n",
      "[1.50, 4.50, 0.21]\n",
      "[2.00, 4.50, 0.24]\n",
      "[2.50, 4.50, 0.25]\n",
      "[3.00, 4.50, 0.24]\n",
      "[3.50, 4.50, 0.21]\n",
      "[4.00, 4.50, 0.16]\n",
      "[4.50, 4.50, 0.09]\n",
      "[5.00, 4.50, 0.00]\n",
      "[0.00, 5.40, 0.00]\n",
      "[0.50, 5.40, 0.09]\n",
      "[1.00, 5.40, 0.16]\n",
      "[1.50, 5.40, 0.21]\n",
      "[2.00, 5.40, 0.24]\n",
      "[2.50, 5.40, 0.25]\n",
      "[3.00, 5.40, 0.24]\n",
      "[3.50, 5.40, 0.21]\n",
      "[4.00, 5.40, 0.16]\n",
      "[4.50, 5.40, 0.09]\n",
      "[5.00, 5.40, 0.00]\n",
      "[0.00, 6.30, 0.00]\n",
      "[0.50, 6.30, 0.08]\n",
      "[1.00, 6.30, 0.14]\n",
      "[1.50, 6.30, 0.19]\n",
      "[2.00, 6.30, 0.22]\n",
      "[2.50, 6.30, 0.22]\n",
      "[3.00, 6.30, 0.22]\n",
      "[3.50, 6.30, 0.19]\n",
      "[4.00, 6.30, 0.14]\n",
      "[4.50, 6.30, 0.08]\n",
      "[5.00, 6.30, 0.00]\n",
      "[0.01, 7.20, 0.00]\n",
      "[0.51, 7.20, 0.05]\n",
      "[1.01, 7.20, 0.10]\n",
      "[1.51, 7.20, 0.13]\n",
      "[2.01, 7.20, 0.14]\n",
      "[2.51, 7.20, 0.15]\n",
      "[3.00, 7.20, 0.14]\n",
      "[3.50, 7.20, 0.13]\n",
      "[4.00, 7.20, 0.10]\n",
      "[4.50, 7.20, 0.05]\n",
      "[5.00, 7.20, 0.00]\n",
      "[0.33, 8.10, 0.00]\n",
      "[0.80, 8.10, 0.03]\n",
      "[1.26, 8.10, 0.04]\n",
      "[1.73, 8.10, 0.06]\n",
      "[2.20, 8.10, 0.07]\n",
      "[2.66, 8.10, 0.07]\n",
      "[3.13, 8.10, 0.07]\n",
      "[3.60, 8.10, 0.06]\n",
      "[4.07, 8.10, 0.04]\n",
      "[4.53, 8.10, 0.03]\n",
      "[5.00, 8.10, 0.00]\n",
      "[2.00, 9.00, 0.00]\n",
      "[2.30, 9.00, 0.00]\n",
      "[2.60, 9.00, 0.00]\n",
      "[2.90, 9.00, 0.00]\n",
      "[3.20, 9.00, 0.00]\n",
      "[3.50, 9.00, 0.00]\n",
      "[3.80, 9.00, 0.00]\n",
      "[4.10, 9.00, 0.00]\n",
      "[4.40, 9.00, 0.00]\n",
      "[4.70, 9.00, 0.00]\n",
      "[5.00, 9.00, 0.00]\n"
     ]
    }
   ],
   "source": [
    "gen_covering(9,5,5,6,2,10,10)"
   ]
  },
  {
   "cell_type": "markdown",
   "id": "35a8c59f",
   "metadata": {},
   "source": [
    "## Calculate Tip Span"
   ]
  },
  {
   "cell_type": "markdown",
   "id": "be9f59e2",
   "metadata": {},
   "source": [
    "The class rules limit the projected wing span. We need to specify the center span, and the tip height, then calculate the actual tip span."
   ]
  },
  {
   "cell_type": "code",
   "execution_count": 33,
   "id": "5bcf2202",
   "metadata": {},
   "outputs": [
    {
     "name": "stdout",
     "output_type": "stream",
     "text": [
      "3.473110997362451\n"
     ]
    }
   ],
   "source": [
    "max_span = 9\n",
    "center_span = 6\n",
    "tip_height = 1.75\n",
    "tip_span = math.sqrt(tip_height**2 + (max_span - center_span)**2)\n",
    "print(tip_span)"
   ]
  },
  {
   "cell_type": "markdown",
   "id": "952ef9c1",
   "metadata": {},
   "source": [
    "There is one more wrinkle in this setup.\n",
    "\n",
    "When we create the final win, the tip will be angled up to create the dihedral. The rib at the end of the center section will be vertical, so the actual camber at the start of the tip will not be correct if we make it the same as the center section camber. We need a picture to show this issue."
   ]
  },
  {
   "cell_type": "code",
   "execution_count": 42,
   "id": "dea761e8",
   "metadata": {},
   "outputs": [
    {
     "data": {
      "image/svg+xml": [
       "<svg xmlns=\"http://www.w3.org/2000/svg\" xmlns:xlink=\"http://www.w3.org/1999/xlink\" width=\"272.519pt\" height=\"50.403pt\" viewBox=\"0 0 272.519 50.403\" version=\"1.1\">\n",
       "<defs>\n",
       "<clipPath id=\"clip1\">\n",
       "  <path d=\"M 5 0 L 272.519531 0 L 272.519531 50.402344 L 5 50.402344 Z M 5 0 \"/>\n",
       "</clipPath>\n",
       "</defs>\n",
       "<g id=\"surface1\">\n",
       "<g clip-path=\"url(#clip1)\" clip-rule=\"nonzero\">\n",
       "<path style=\"fill:none;stroke-width:0.79701;stroke-linecap:butt;stroke-linejoin:miter;stroke:rgb(0%,0%,0%);stroke-opacity:1;stroke-miterlimit:10;\" d=\"M 0.00090625 0.00009375 L 170.079031 0.00009375 L 255.122 49.605562 \" transform=\"matrix(1,0,0,-1,17.003,50.004)\"/>\n",
       "<path style=\"fill:none;stroke-width:0.79701;stroke-linecap:butt;stroke-linejoin:miter;stroke:rgb(0%,0%,0%);stroke-opacity:1;stroke-miterlimit:10;\" d=\"M 0.00090625 7.086031 L 170.079031 7.086031 L 255.122 49.605562 \" transform=\"matrix(1,0,0,-1,17.003,50.004)\"/>\n",
       "</g>\n",
       "</g>\n",
       "</svg>"
      ],
      "text/plain": [
       "<IPython.core.display.SVG object>"
      ]
     },
     "execution_count": 42,
     "metadata": {},
     "output_type": "execute_result"
    }
   ],
   "source": [
    "%%itikz\n",
    "\n",
    "\\documentclass{standalone}\n",
    "\\usepackage{tikz}\n",
    "\\begin{document}\n",
    "\\usetikzlibrary{calc}\n",
    "\\begin{tikzpicture}\n",
    "  \\draw[thick] (0,0) -- (6,0) -- (9,1.75);\n",
    "  \\draw[thick] (0,0.25) -- (6,0.25) -- (9,1.75);\n",
    "\\end{tikzpicture}\n",
    "\\end{document}"
   ]
  },
  {
   "cell_type": "markdown",
   "id": "532fa74b",
   "metadata": {},
   "source": [
    "The issue is figuring out what the camber should be for the tip at the dihedral break. We will be generating this covering, then slice off the part that would be inside the center section. (Is the intersection going to be correct? We need to test this to make sure.)\n",
    "\n",
    "A \"perfect joint between two cylinders with the same radius would happen along a plane that cuts through both cylinders in such a way that both cylinders are cut in an identical angle. If the dihedral joint lifted the tip at 30 degrees, the plane should cut both parts at 15 degrees. Here is a figure (generated using OpenSCAD) showing an example joint:\n",
    "\n",
    "![Example Joint](tip-joint.png)\n",
    "\n",
    "From this figure, you should see that cutting the tip section using a vertical plane would result in a joint that is too high on the tip side. If we are going to keep the center section \"square\", we need to figure out a new curve at the tip joint. Since the rib is constructed on the center section, we need to construct a properly trimmed floating cover edge for the tip.\n",
    "\n",
    "In generating the point matrix for the center section, we will have a set of points anong the edge. We need to *transform* these points into the tip coordinate syetem (aligned with the tip frame. And use that as the starting point for the covering grid on the tip. We are assuming a linear change in camber alomg the tip, so we can simple draw a straignt line from the center section edge to the final ip points. For simplicity, the last rib in the tip is just a straight piece.\n",
    "\n",
    "We will generate the covering grid using a fixed number of points, evenly spaced along the chord line for every *Y* station we select. This will produce a grid acceptable for submitting to the `Justin Lin`_ *function grapher* code. To calculate the covering point grid for the tip, we need to figureout the equation for these straight line segments"
   ]
  },
  {
   "cell_type": "markdown",
   "id": "07d73836",
   "metadata": {},
   "source": [
    "## Lines in 3D Space"
   ]
  },
  {
   "cell_type": "markdown",
   "id": "12eb2184",
   "metadata": {},
   "source": [
    "Given two points in a 3D space:\n",
    "$$\n",
    "p1 = (x1,y1,z1)\n",
    "$$\n",
    "\n",
    "$$\n",
    "p2 = (x2,y2,z2)\n",
    "$$\n",
    "\n",
    "We need to come up with equations we can use to find covering points along the line between these two points.\n",
    "\n",
    "Define three more constants:\n",
    "$$    \n",
    "l = (x2 - x1)\n",
    "$$\n",
    "\n",
    "$$\n",
    "m = (y2 - y1)\n",
    "$$\n",
    "\n",
    "$$\n",
    "n = (z2 - z1)\n",
    "$$\n",
    "\n",
    "Then these equations apply:\n",
    "    \n",
    "$$\n",
    "\\frac{x - x1}{l} = \\frac{y - y1}{m} = \\frac{z - z1}{n}\n",
    "$$\n",
    "\n",
    "With these equations, we can generate the grid as follows:\n",
    "                                                        \n",
    "1. set the $y$ value\n",
    "2. calculate $x$ using that value of $y$\n",
    "3. calculate $z$ from the value of $y$"
   ]
  },
  {
   "cell_type": "markdown",
   "id": "5b0b81ff",
   "metadata": {},
   "source": [
    "The only remaining puzzle is figuring out the transformation of the outer center section rib points into the tip coordinate system. This system is a simple rotation around the *X* axis, so this is not so bad to figure out."
   ]
  },
  {
   "cell_type": "code",
   "execution_count": 50,
   "id": "2828fa5c",
   "metadata": {},
   "outputs": [
    {
     "data": {
      "image/svg+xml": [
       "<svg xmlns=\"http://www.w3.org/2000/svg\" xmlns:xlink=\"http://www.w3.org/1999/xlink\" width=\"142.031pt\" height=\"142.031pt\" viewBox=\"0 0 142.031 142.031\" version=\"1.1\">\n",
       "<defs>\n",
       "<clipPath id=\"clip1\">\n",
       "  <path d=\"M 0 0 L 142.03125 0 L 142.03125 142 L 0 142 Z M 0 0 \"/>\n",
       "</clipPath>\n",
       "<clipPath id=\"clip2\">\n",
       "  <path d=\"M 0 22 L 120 22 L 120 142.03125 L 0 142.03125 Z M 0 22 \"/>\n",
       "</clipPath>\n",
       "</defs>\n",
       "<g id=\"surface1\">\n",
       "<g clip-path=\"url(#clip1)\" clip-rule=\"nonzero\">\n",
       "<path style=\"fill:none;stroke-width:0.19925;stroke-linecap:butt;stroke-linejoin:miter;stroke:rgb(50%,50%,50%);stroke-opacity:1;stroke-miterlimit:10;\" d=\"M 0.00021875 -0.00003125 L 141.734594 -0.00003125 M 0.00021875 28.347625 L 141.734594 28.347625 M 0.00021875 56.695281 L 141.734594 56.695281 M 0.00021875 85.039031 L 141.734594 85.039031 M 0.00021875 113.386687 L 141.734594 113.386687 M 0.00021875 141.722625 L 141.734594 141.722625 M 0.00021875 -0.00003125 L 0.00021875 141.734344 M 28.347875 -0.00003125 L 28.347875 141.734344 M 56.695531 -0.00003125 L 56.695531 141.734344 M 85.039281 -0.00003125 L 85.039281 141.734344 M 113.386938 -0.00003125 L 113.386938 141.734344 M 141.722875 -0.00003125 L 141.722875 141.734344 \" transform=\"matrix(1,0,0,-1,0.199,141.832)\"/>\n",
       "</g>\n",
       "<path style=\"fill-rule:nonzero;fill:rgb(0%,0%,0%);fill-opacity:1;stroke-width:0.3985;stroke-linecap:butt;stroke-linejoin:miter;stroke:rgb(0%,0%,0%);stroke-opacity:1;stroke-miterlimit:10;\" d=\"M 28.347875 28.347625 L 28.347875 56.695281 L 56.695531 56.695281 L 56.695531 28.347625 Z M 28.347875 28.347625 \" transform=\"matrix(1,0,0,-1,0.199,141.832)\"/>\n",
       "<g clip-path=\"url(#clip2)\" clip-rule=\"nonzero\">\n",
       "<path style=\"fill:none;stroke-width:0.3985;stroke-linecap:butt;stroke-linejoin:miter;stroke:rgb(0%,0%,0%);stroke-opacity:1;stroke-miterlimit:10;\" d=\"M 0.00021875 -0.00003125 L 113.386938 113.386687 \" transform=\"matrix(1,0,0,-1,0.199,141.832)\"/>\n",
       "</g>\n",
       "</g>\n",
       "</svg>"
      ],
      "text/plain": [
       "<IPython.core.display.SVG object>"
      ]
     },
     "execution_count": 50,
     "metadata": {},
     "output_type": "execute_result"
    }
   ],
   "source": [
    "%%itikz\n",
    "\\documentclass[tikz]{standalone}\n",
    "\\begin{document}\n",
    "\\begin{tikzpicture}\n",
    "\\draw[help lines] grid (5, 5);\n",
    "\\draw[fill=black] (1, 1) rectangle (2, 2);\n",
    "\\draw (0,0) -- (4,4);\n",
    "\\end{tikzpicture}\n",
    "\\end{document}\n"
   ]
  },
  {
   "cell_type": "code",
   "execution_count": 45,
   "id": "73842295",
   "metadata": {},
   "outputs": [
    {
     "data": {
      "image/svg+xml": [
       "<svg xmlns=\"http://www.w3.org/2000/svg\" xmlns:xlink=\"http://www.w3.org/1999/xlink\" width=\"141.931pt\" height=\"141.931pt\" viewBox=\"0 0 141.931 141.931\" version=\"1.1\">\n",
       "<defs>\n",
       "<clipPath id=\"clip1\">\n",
       "  <path d=\"M 0 0 L 141.929688 0 L 141.929688 141.929688 L 0 141.929688 Z M 0 0 \"/>\n",
       "</clipPath>\n",
       "</defs>\n",
       "<g id=\"surface1\">\n",
       "<g clip-path=\"url(#clip1)\" clip-rule=\"nonzero\">\n",
       "<path style=\"fill:none;stroke-width:0.19925;stroke-linecap:butt;stroke-linejoin:miter;stroke:rgb(50%,50%,50%);stroke-opacity:1;stroke-miterlimit:10;\" d=\"M 0.0015625 -0.00103125 L 141.735938 -0.00103125 M 0.0015625 28.346625 L 141.735938 28.346625 M 0.0015625 56.694281 L 141.735938 56.694281 M 0.0015625 85.041938 L 141.735938 85.041938 M 0.0015625 113.385688 L 141.735938 113.385688 M 0.0015625 141.725531 L 141.735938 141.725531 M 0.0015625 -0.00103125 L 0.0015625 141.733344 M 28.345312 -0.00103125 L 28.345312 141.733344 M 56.692969 -0.00103125 L 56.692969 141.733344 M 85.040625 -0.00103125 L 85.040625 141.733344 M 113.388281 -0.00103125 L 113.388281 141.733344 M 141.724219 -0.00103125 L 141.724219 141.733344 \" transform=\"matrix(1,0,0,-1,0.1,141.831)\"/>\n",
       "</g>\n",
       "<path style=\"fill-rule:nonzero;fill:rgb(0%,0%,0%);fill-opacity:1;stroke-width:0.3985;stroke-linecap:butt;stroke-linejoin:miter;stroke:rgb(0%,0%,0%);stroke-opacity:1;stroke-miterlimit:10;\" d=\"M 28.345312 28.346625 L 28.345312 56.694281 L 56.692969 56.694281 L 56.692969 28.346625 Z M 28.345312 28.346625 \" transform=\"matrix(1,0,0,-1,0.1,141.831)\"/>\n",
       "<path style=\"fill-rule:nonzero;fill:rgb(0%,0%,0%);fill-opacity:1;stroke-width:0.3985;stroke-linecap:butt;stroke-linejoin:miter;stroke:rgb(0%,0%,0%);stroke-opacity:1;stroke-miterlimit:10;\" d=\"M 56.692969 28.346625 L 56.692969 56.694281 L 85.040625 56.694281 L 85.040625 28.346625 Z M 56.692969 28.346625 \" transform=\"matrix(1,0,0,-1,0.1,141.831)\"/>\n",
       "<path style=\"fill-rule:nonzero;fill:rgb(0%,0%,0%);fill-opacity:1;stroke-width:0.3985;stroke-linecap:butt;stroke-linejoin:miter;stroke:rgb(0%,0%,0%);stroke-opacity:1;stroke-miterlimit:10;\" d=\"M 85.040625 28.346625 L 85.040625 56.694281 L 113.388281 56.694281 L 113.388281 28.346625 Z M 85.040625 28.346625 \" transform=\"matrix(1,0,0,-1,0.1,141.831)\"/>\n",
       "<path style=\"fill-rule:nonzero;fill:rgb(0%,0%,0%);fill-opacity:1;stroke-width:0.3985;stroke-linecap:butt;stroke-linejoin:miter;stroke:rgb(0%,0%,0%);stroke-opacity:1;stroke-miterlimit:10;\" d=\"M 85.040625 56.694281 L 85.040625 85.041938 L 113.388281 85.041938 L 113.388281 56.694281 Z M 85.040625 56.694281 \" transform=\"matrix(1,0,0,-1,0.1,141.831)\"/>\n",
       "<path style=\"fill-rule:nonzero;fill:rgb(0%,0%,0%);fill-opacity:1;stroke-width:0.3985;stroke-linecap:butt;stroke-linejoin:miter;stroke:rgb(0%,0%,0%);stroke-opacity:1;stroke-miterlimit:10;\" d=\"M 56.692969 85.041938 L 56.692969 113.385688 L 85.040625 113.385688 L 85.040625 85.041938 Z M 56.692969 85.041938 \" transform=\"matrix(1,0,0,-1,0.1,141.831)\"/>\n",
       "</g>\n",
       "</svg>"
      ],
      "text/plain": [
       "<IPython.core.display.SVG object>"
      ]
     },
     "execution_count": 45,
     "metadata": {},
     "output_type": "execute_result"
    }
   ],
   "source": [
    "%%itikz\n",
    "\\documentclass[tikz]{standalone}\n",
    "\\begin{document}\n",
    "\\begin{tikzpicture}\n",
    "\\draw[help lines] grid (5, 5);\n",
    "\\draw[fill=black] (1, 1) rectangle (2, 2);\n",
    "\\draw[fill=black] (2, 1) rectangle (3, 2);\n",
    "\\draw[fill=black] (3, 1) rectangle (4, 2);\n",
    "\\draw[fill=black] (3, 2) rectangle (4, 3);\n",
    "\\draw[fill=black] (2, 3) rectangle (3, 4);\n",
    "\\end{tikzpicture}\n",
    "\\end{document}"
   ]
  },
  {
   "cell_type": "code",
   "execution_count": null,
   "id": "a43ff909",
   "metadata": {},
   "outputs": [],
   "source": []
  }
 ],
 "metadata": {
  "kernelspec": {
   "display_name": "Python 3 (ipykernel)",
   "language": "python",
   "name": "python3"
  },
  "language_info": {
   "codemirror_mode": {
    "name": "ipython",
    "version": 3
   },
   "file_extension": ".py",
   "mimetype": "text/x-python",
   "name": "python",
   "nbconvert_exporter": "python",
   "pygments_lexer": "ipython3",
   "version": "3.9.5"
  }
 },
 "nbformat": 4,
 "nbformat_minor": 5
}
